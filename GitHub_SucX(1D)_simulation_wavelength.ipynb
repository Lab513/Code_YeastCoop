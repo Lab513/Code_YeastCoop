{
 "cells": [
  {
   "cell_type": "markdown",
   "metadata": {},
   "source": [
    "# YeastOnSucroseAgar(1D)_Coop-Cheat"
   ]
  },
  {
   "cell_type": "markdown",
   "metadata": {},
   "source": [
    "This script use a PDE solver (scikit-fdiff) to resolve numerically the 1D diffusion equation.\n",
    "For the sucrose degradation, we use an hook in the PDE solver to acces and modify the concentration while the simulation run.\n",
    "There are no cell movement.\n",
    "\n",
    "To run this script, you need several packages (skfdiff,numpy,holoviews,csv).\n",
    "You can also use the Anaconda environment containing all the necessary packages:\n",
    "https://anaconda.org/matthias.lebec/CellModeling/files"
   ]
  },
  {
   "cell_type": "markdown",
   "metadata": {},
   "source": [
    "### Import packages"
   ]
  },
  {
   "cell_type": "code",
   "execution_count": null,
   "metadata": {},
   "outputs": [],
   "source": [
    "import numpy as np\n",
    "from skfdiff import Model, Simulation\n",
    "from skfdiff import display_fields, enable_notebook #for display in realtime\n",
    "from skfdiff import Container #to retrieve from disk\n",
    "import holoviews as hv\n",
    "enable_notebook()\n",
    "import csv\n"
   ]
  },
  {
   "cell_type": "markdown",
   "metadata": {},
   "source": [
    "### Define variables"
   ]
  },
  {
   "cell_type": "code",
   "execution_count": null,
   "metadata": {},
   "outputs": [],
   "source": [
    "pixelvalue=0.0001 #0.1mm [m]\n",
    "sizeX=0.045 #[m]\n",
    "nbrpixelX=int(sizeX/pixelvalue)\n",
    "\n",
    "sizeZ=0.00235 #[m]\n",
    "toplayerthickness=0.00067 #[m] 0.67mm\n",
    "ratiolayers=toplayerthickness/sizeZ\n",
    "\n",
    "tol=1e1 #error tolerance for numerical method\n",
    "deltat=2 #in sec ; time step for numerical resolution\n",
    "tmax=60*60*85 #in sec ; total time to compute\n",
    "containerpath=\"D:/Matthias_LE_BEC/Modelling/Python/\" #path to save the simulation results\n",
    "containerid=\"TestGitHub_1\" #name for the simulation"
   ]
  },
  {
   "cell_type": "code",
   "execution_count": null,
   "metadata": {},
   "outputs": [],
   "source": [
    "#Diffusion coefficient in water: at 30°C\n",
    "kM=7.6e-10 #m²/s\n",
    "kS=6.1e-10 #m²/s\n",
    "\n",
    "KmE=0.026 #Km of Invertase\n",
    "Kcat=4700 #Kcat of Invertase\n",
    "umax=0.27 #/h ; maximal yeast growth rate\n",
    "umax = umax/3600 #in sec\n",
    "Ks=0.00012 #Monod constant for yeast\n",
    "Kalpha=0.00001 #Arbitrary Hill coeff for Invertase production\n",
    "Death = 0 #Death rate\n",
    "Vmax1=(167e-6/60)*(15e-12) #Mich.Ment. coeff for glucose consumption\n",
    "Vmax2=(104e-6/60)*(15e-12) #Mich.Ment. coeff for glucose consumption\n",
    "Km1=0.0008 #Mich.Ment. coeff for glucose consumption\n",
    "Km2=0.021 #Mich.Ment. coeff for glucose consumption\n",
    "\n",
    "print(\"Stability evaluation: delta t=\",deltat,\" should be < \" , pixelvalue*pixelvalue/kM)"
   ]
  },
  {
   "cell_type": "code",
   "execution_count": null,
   "metadata": {},
   "outputs": [],
   "source": [
    "M0=0.00000001 #[M] ; Initial monomers concentration(Glu+Fruct)  0.005% = 0.00027M\n",
    "S0=0.02921 #[M] ; Initial sucrose concentration  1% = 0.029M\n",
    "E0=1e-35 #[M] ; Initial enzyme concentration\n",
    "alphacheat=1.5e-25 #Invertase production rate[mol/s/cell] this is typically 1e-24 in WT\n",
    "alphacoop=1.8e-24 #Invertase production rate[mol/s/cell] this is typically 1e-24 in WT\n",
    "\n",
    "S0=S0*(1-ratiolayers) #take into account that sucrose is not in the whole thickness\n",
    "\n",
    "CellD=1e13 #initial number of cell per m^3\n",
    "CellD0=CellD/1000 #initial number of cell per L\n",
    "CellD0=CellD0*ratiolayers #take into account that cell are not in the whole thickness"
   ]
  },
  {
   "cell_type": "code",
   "execution_count": null,
   "metadata": {},
   "outputs": [],
   "source": [
    "#Initialising the fields\n",
    "x = np.linspace(0, pixelvalue*(nbrpixelX-1), nbrpixelX) #Initialize the size of the window\n",
    "M = [ M0 for i in range(nbrpixelX) ] #Initialise the field M with M0\n",
    "S = [ S0 for i in range(nbrpixelX) ] #Initialise the field S with S0\n",
    "En = [ E0 for i in range(nbrpixelX) ] #Initialise the field E with E0\n",
    "alpha = [ alphacheat for i in range(nbrpixelX) ] #Initialise the field alpha with alphacheat\n",
    "d = np.zeros(x.size)#Initialise the field with 0\n",
    "Q= np.zeros(x.size)#Initialise the field with 0\n",
    "I= np.zeros(x.size)#Initialise the field with 0\n",
    "tracker= np.zeros(x.size)#Initialise the field with 0\n",
    "for i in range(nbrpixelX):\n",
    "    d[i]=CellD0\n",
    "    \n",
    "#Create the location of the cooperators:\n",
    "listcoop=[]\n",
    "center=int((nbrpixelX-1)/2)\n",
    "ratioCoop=0.25 # area ratio of cooperator\n",
    "pixelDMDsize=0.35e-3 #in meter ; size of one DMD pixel when projected on the surface\n",
    "Wavelength=16*pixelDMDsize #in meter ; the light pattern wavelength\n",
    "wl=Wavelength/pixelvalue #in pixel ; the light pattern wavelength\n",
    "\n",
    "LightIntensity=1 #between 0 and 1\n",
    "alphacoop=alphacheat+(alphacoop-alphacheat)*LightIntensity #compute alphacoop based on the light intensity: linearly\n",
    "\n",
    "#Setup the light pattern\n",
    "#Fill the listcoop\n",
    "linecount=0\n",
    "for i in range(nbrpixelX): # this is basically the blue pattern\n",
    "    j=i-linecount*wl #This shift i depending on the number of the pattern\n",
    "    if (j>(1-ratioCoop)*wl)&(j<=wl): \n",
    "        listcoop+=[i]\n",
    "    if (j>wl):\n",
    "        linecount+=1\n",
    "\n",
    "#Fill the illuminated pixel with the invertase production rate alphacoop\n",
    "for i in listcoop: \n",
    "    alpha[i]=alphacoop\n"
   ]
  },
  {
   "cell_type": "markdown",
   "metadata": {},
   "source": [
    "### Define PDE model"
   ]
  },
  {
   "cell_type": "code",
   "execution_count": null,
   "metadata": {},
   "outputs": [],
   "source": [
    "model = Model([\"kM * (dxxM) - Q + 2*I\",\n",
    "               \"kS * (dxxS) - I\",\n",
    "               \"alpha* (M/(Kalpha+M))*d\",\n",
    "              \"umax * (M/(Ks+M)) * d - Death*d\"],\n",
    "              [\"M(x)\", \"S(x)\",\"En(x)\",\"d(x)\"], \n",
    "              parameters=[\"kM\",\"kS\",\"umax\",\"Ks\",\"Kalpha\",\"Death\",\"Q(x)\",\"I(x)\",\"alpha(x)\"],\n",
    "              boundary_conditions=\"noflux\")"
   ]
  },
  {
   "cell_type": "markdown",
   "metadata": {},
   "source": [
    "### Hook"
   ]
  },
  {
   "cell_type": "code",
   "execution_count": null,
   "metadata": {},
   "outputs": [],
   "source": [
    "def degrad_hook(t, fields):\n",
    "    fields[\"M\"] = (\"x\"), np.where(fields.M <= 0, 0, fields.M) #This prevent M to go negative\n",
    "    fields[\"S\"] = (\"x\"), np.where(fields.S <= 0, 0, fields.S) #This prevent S to go negative\n",
    "    fields[\"En\"] = (\"x\"), np.where(fields.En <= 0, 0, fields.En) #This prevent En to go negative\n",
    "    fields[\"d\"] = (\"x\"), np.where(fields.d <= 0, 0, fields.d) #This prevent d to go negative\n",
    "    fields[\"Q\"] = (\"x\"), (Vmax1*fields.M/(Km1+fields.M)+Vmax2*fields.M/(Km2+fields.M))*fields.d #Computing the glucose consumption\n",
    "    fields[\"I\"] = (\"x\"), fields.En*Kcat*fields.S/(KmE+fields.S) #Computing the invertase activity\n",
    "    return fields"
   ]
  },
  {
   "cell_type": "markdown",
   "metadata": {},
   "source": [
    "### Initialize simulation"
   ]
  },
  {
   "cell_type": "code",
   "execution_count": null,
   "metadata": {},
   "outputs": [],
   "source": [
    "initial_fields = model.Fields(x=x, M=M, S=S, d=d, kM=kM, kS=kS,umax=umax,Ks=Ks,Kalpha=Kalpha,Death=Death, Q=Q, I=I, En=En, alpha=alpha) #Initialise the field, k is diffusion coefficient m/s ?\n",
    "\n",
    "###Here you have the tolerence setting, very important for the script computation time\n",
    "simulation = Simulation(model, initial_fields,dt=deltat, tmax=tmax,hook=degrad_hook,scheme=\"Theta\",theta=0.5,time_stepping=True,tol=tol,id=containerid)\n",
    "container = simulation.attach_container(containerpath, force=True)"
   ]
  },
  {
   "cell_type": "markdown",
   "metadata": {},
   "source": [
    "### If you want to plot in real time while simulation is running"
   ]
  },
  {
   "cell_type": "code",
   "execution_count": null,
   "metadata": {},
   "outputs": [],
   "source": [
    "enable_notebook()\n",
    "#display_fields(simulation)"
   ]
  },
  {
   "cell_type": "markdown",
   "metadata": {},
   "source": [
    "### Run the simulation"
   ]
  },
  {
   "cell_type": "code",
   "execution_count": null,
   "metadata": {
    "scrolled": true
   },
   "outputs": [],
   "source": [
    "for t, fields in simulation:\n",
    "    print(\"- time step:\",t/3600,\"hour, S mean:\" ,float(fields[\"S\"].mean()),\", M mean:\" ,float(fields[\"M\"].mean()))\n",
    "    print(\"Q mean:\" ,float(fields[\"Q\"].mean()),\"I mean:\" ,float(fields[\"I\"].mean()))\n",
    "    print(\"time since simulation start:\",simulation.timer.total)\n",
    "    #fig = pl.figure()\n",
    "    #fields[\"C\"].plot()"
   ]
  },
  {
   "cell_type": "code",
   "execution_count": null,
   "metadata": {},
   "outputs": [],
   "source": [
    "simulation.timer.total #Print the total computation time"
   ]
  },
  {
   "cell_type": "code",
   "execution_count": null,
   "metadata": {},
   "outputs": [],
   "source": [
    "container = Container.retrieve(containerpath+containerid) #Recover the container data stored in the disk"
   ]
  },
  {
   "cell_type": "markdown",
   "metadata": {},
   "source": [
    "# Plot the result "
   ]
  },
  {
   "cell_type": "code",
   "execution_count": null,
   "metadata": {},
   "outputs": [],
   "source": [
    "from xarray import concat, open_dataset, open_mfdataset\n",
    "from path import Path"
   ]
  },
  {
   "cell_type": "code",
   "execution_count": null,
   "metadata": {},
   "outputs": [],
   "source": [
    "path=Path(containerpath+containerid)"
   ]
  },
  {
   "cell_type": "markdown",
   "metadata": {},
   "source": [
    "### For very big data:"
   ]
  },
  {
   "cell_type": "code",
   "execution_count": null,
   "metadata": {
    "scrolled": false
   },
   "outputs": [],
   "source": [
    "# listdataset=[]\n",
    "# previousframe=0\n",
    "\n",
    "# i=0\n",
    "# for filename in path.files(\"data*.nc\"):\n",
    "#     print(filename)\n",
    "\n",
    "#     listdataset+=[open_dataset(filename).isel(t=[0])] #This take only the first timepoint of each data*.nc file"
   ]
  },
  {
   "cell_type": "markdown",
   "metadata": {},
   "source": [
    "### For normal data:"
   ]
  },
  {
   "cell_type": "code",
   "execution_count": null,
   "metadata": {},
   "outputs": [],
   "source": [
    "listdataset=[]\n",
    "previousframe=0\n",
    "\n",
    "i=0\n",
    "for filename in path.files(\"data*.nc\"):\n",
    "    #print(filename)\n",
    "\n",
    "    listdataset+=[open_dataset(filename)]"
   ]
  },
  {
   "cell_type": "code",
   "execution_count": null,
   "metadata": {},
   "outputs": [],
   "source": [
    "alldata = concat(listdataset,dim=\"t\").sortby(\"t\")"
   ]
  },
  {
   "cell_type": "code",
   "execution_count": null,
   "metadata": {},
   "outputs": [],
   "source": [
    "skipframe=1000# the number of time frame you want to skip for the ploting in addition of the first sampling\n",
    "start=0\n",
    "end=150000"
   ]
  },
  {
   "cell_type": "code",
   "execution_count": null,
   "metadata": {},
   "outputs": [],
   "source": [
    "hv.output(max_frames=1001) #Tune this \"protection\"\n",
    "data=alldata.isel(t=slice(start,end,skipframe))"
   ]
  },
  {
   "cell_type": "markdown",
   "metadata": {},
   "source": [
    "### Ploting:"
   ]
  },
  {
   "cell_type": "code",
   "execution_count": null,
   "metadata": {},
   "outputs": [],
   "source": [
    "skipx=10 # the number of x position you want to skip for the ploting"
   ]
  },
  {
   "cell_type": "code",
   "execution_count": null,
   "metadata": {},
   "outputs": [],
   "source": [
    "dprofil = hv.Dataset(data.d).to(hv.Curve, [\"x\"])\n",
    "dprofil"
   ]
  },
  {
   "cell_type": "code",
   "execution_count": null,
   "metadata": {},
   "outputs": [],
   "source": [
    "dcurve = hv.Dataset(data.d.sel(x=data.x[range(0,len(data.x),skipx)])).to(hv.Curve, [\"t\"])\n",
    "dcurve"
   ]
  },
  {
   "cell_type": "code",
   "execution_count": null,
   "metadata": {},
   "outputs": [],
   "source": [
    "Mcurve = hv.Dataset(data.M.sel(x=data.x[range(0,len(data.x),skipx)] )).to(hv.Curve, [\"t\"])\n",
    "Mcurve"
   ]
  },
  {
   "cell_type": "code",
   "execution_count": null,
   "metadata": {},
   "outputs": [],
   "source": [
    "Sprofil = hv.Dataset(data.S).to(hv.Curve, [\"x\"])\n",
    "Sprofil"
   ]
  },
  {
   "cell_type": "code",
   "execution_count": null,
   "metadata": {},
   "outputs": [],
   "source": [
    "Mprofil = hv.Dataset(data.M).to(hv.Curve, [\"x\"])\n",
    "Mprofil"
   ]
  },
  {
   "cell_type": "markdown",
   "metadata": {},
   "source": [
    "### Save the result in holoview"
   ]
  },
  {
   "cell_type": "code",
   "execution_count": null,
   "metadata": {},
   "outputs": [],
   "source": [
    "AllPlot_t=(Sprofil+Mprofil+dprofil).cols(3)\n",
    "AllPlot_x=(Mcurve+dcurve).cols(2)\n",
    "hv.renderer('bokeh').save(AllPlot_t, containerid+'AllPlot_t', fmt='scrubber')\n",
    "hv.renderer('bokeh').save(AllPlot_x, containerid+'AllPlot_x', fmt='scrubber')"
   ]
  },
  {
   "cell_type": "markdown",
   "metadata": {},
   "source": [
    "### Save the result in csv"
   ]
  },
  {
   "cell_type": "code",
   "execution_count": null,
   "metadata": {},
   "outputs": [],
   "source": [
    "path = Path('C:/Users/Mathias/Documents/Python Scripts/SucroseGrowthYeast/'+containerid)\n",
    "try:\n",
    "    path.mkdir()\n",
    "except:\n",
    "    print(\"already existing folder\")"
   ]
  },
  {
   "cell_type": "code",
   "execution_count": null,
   "metadata": {},
   "outputs": [],
   "source": [
    "###d\n",
    "\n",
    "variablename=\"d\"\n",
    "with open(path+\"/\"+containerid+\"_\"+variablename+\".csv\", mode='w',newline='') as csv_file:\n",
    "    csv_writer = csv.writer(csv_file, delimiter=',', quotechar='\"')\n",
    "    listx=[]\n",
    "    for x in data.x.values:\n",
    "        listx+=[x]\n",
    "    csv_writer.writerow([\"time\"]+listx)\n",
    "    c=0\n",
    "    for i in data.t.values:\n",
    "        listinx=[]\n",
    "        for j in data.d.sel(t=i).values:\n",
    "            listinx+=[j]\n",
    "        csv_writer.writerow([i]+listinx)\n",
    "        c+=1"
   ]
  },
  {
   "cell_type": "code",
   "execution_count": null,
   "metadata": {},
   "outputs": [],
   "source": [
    "###M\n",
    "\n",
    "variablename=\"M\"\n",
    "with open(path+\"/\"+containerid+\"_\"+variablename+\".csv\", mode='w',newline='') as csv_file:\n",
    "    csv_writer = csv.writer(csv_file, delimiter=',', quotechar='\"')\n",
    "    listx=[]\n",
    "    for x in data.x.values:\n",
    "        listx+=[x]\n",
    "    csv_writer.writerow([\"time\"]+listx)\n",
    "    c=0\n",
    "    for i in data.t.values:\n",
    "        listinx=[]\n",
    "        for j in data.M.sel(t=i).values:\n",
    "            listinx+=[j]\n",
    "        csv_writer.writerow([i]+listinx)\n",
    "        c+=1"
   ]
  },
  {
   "cell_type": "code",
   "execution_count": null,
   "metadata": {},
   "outputs": [],
   "source": [
    "###S\n",
    "\n",
    "variablename=\"S\"\n",
    "with open(path+\"/\"+containerid+\"_\"+variablename+\".csv\", mode='w',newline='') as csv_file:\n",
    "    csv_writer = csv.writer(csv_file, delimiter=',', quotechar='\"')\n",
    "    listx=[]\n",
    "    for x in data.x.values:\n",
    "        listx+=[x]\n",
    "    csv_writer.writerow([\"time\"]+listx)\n",
    "    c=0\n",
    "    for i in data.t.values:\n",
    "        listinx=[]\n",
    "        for j in data.S.sel(t=i).values:\n",
    "            listinx+=[j]\n",
    "        csv_writer.writerow([i]+listinx)\n",
    "        c+=1"
   ]
  },
  {
   "cell_type": "code",
   "execution_count": null,
   "metadata": {},
   "outputs": [],
   "source": []
  }
 ],
 "metadata": {
  "kernelspec": {
   "display_name": "Python 3",
   "language": "python",
   "name": "python3"
  },
  "language_info": {
   "codemirror_mode": {
    "name": "ipython",
    "version": 3
   },
   "file_extension": ".py",
   "mimetype": "text/x-python",
   "name": "python",
   "nbconvert_exporter": "python",
   "pygments_lexer": "ipython3",
   "version": "3.7.0"
  }
 },
 "nbformat": 4,
 "nbformat_minor": 4
}
